{
  "nbformat": 4,
  "nbformat_minor": 0,
  "metadata": {
    "colab": {
      "name": "Untitled23.ipynb",
      "provenance": [],
      "authorship_tag": "ABX9TyOMEMQwz6cIMeq1V9hq6c86",
      "include_colab_link": true
    },
    "kernelspec": {
      "name": "python3",
      "display_name": "Python 3"
    }
  },
  "cells": [
    {
      "cell_type": "markdown",
      "metadata": {
        "id": "view-in-github",
        "colab_type": "text"
      },
      "source": [
        "<a href=\"https://colab.research.google.com/github/Jatin666/project-3--Password-generator/blob/master/main.ipynb\" target=\"_parent\"><img src=\"https://colab.research.google.com/assets/colab-badge.svg\" alt=\"Open In Colab\"/></a>"
      ]
    },
    {
      "cell_type": "code",
      "metadata": {
        "id": "qDnXG79xtgbP",
        "colab_type": "code",
        "colab": {}
      },
      "source": [
        "##password generator\n",
        "import random\n",
        "a=[]\n",
        "for i in range(33,127):\n",
        "    a.append(chr(i))\n",
        "len=int(input(\"Enter the Length of the Password: \"))\n",
        "password=''\n",
        "while(True):\n",
        "    randomCharacter = random.choice(a)\n",
        "    if(len(password) is len):\n",
        "        break\n",
        "    elif (randomCharacter not in password):\n",
        "        password = password + (randomCharacter)\n",
        "    else:\n",
        "        continue\n",
        "print(password)"
      ],
      "execution_count": 0,
      "outputs": []
    }
  ]
}